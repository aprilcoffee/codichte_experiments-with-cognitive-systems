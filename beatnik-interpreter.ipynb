{
 "cells": [
  {
   "cell_type": "markdown",
   "metadata": {},
   "source": [
    "# Beatnik Interpreter\n",
    "\n",
    "In this Notebook you can tokenize your text, compute its scrabble values and interpret it as [Beatnik](http://cliffle.com/esoterica/beatnik/) Code."
   ]
  },
  {
   "cell_type": "markdown",
   "metadata": {},
   "source": [
    "#### 1. set variables (strings)\n",
    "read your text into the machine and output again *in the same way* with the `print` command. "
   ]
  },
  {
   "cell_type": "code",
   "execution_count": 1,
   "metadata": {},
   "outputs": [
    {
     "name": "stdout",
     "output_type": "stream",
     "text": [
      "\u001b[1mText: \u001b[0m \n",
      "He arrived.\n",
      "\n",
      "He arrived at my door extremely late one day.\n",
      "\n",
      "If you only did uninteresting, idle things in your life, always acting as if nothing he does will change your opinion ... can go well.\n",
      "\n",
      "But one awful dilemma I face, is that growing emotion ruins my serious, careful way of thinking. If a love flame is forced and futile, why bother kindling another one?\n",
      "\n",
      "Yet, you think, it might not be a bad idea. Relationships always work out, and this can be an escape from a tense, complex life. Unmarried at home, lost in a loud, irregular reality ... maybe sometime, just maybe, it's time I found the one.\n",
      "\n",
      "If he's a guy who is faithful, kind, and will be mine joyously to the end, I will prove to him I shall cherish and treasure him just as much. But how do I say it? I can't place the words...\n",
      "\n",
      "\"You absolutely need to know\", I say, nervously, \"that I...I...I...\"\n",
      "\n"
     ]
    }
   ],
   "source": [
    "# paste your text in between the apostrophes ''' YOUR TEXT '''\n",
    "\n",
    "text = '''\n",
    "He arrived.\n",
    "\n",
    "He arrived at my door extremely late one day.\n",
    "\n",
    "If you only did uninteresting, idle things in your life, always acting as if nothing he does will change your opinion ... can go well.\n",
    "\n",
    "But one awful dilemma I face, is that growing emotion ruins my serious, careful way of thinking. If a love flame is forced and futile, why bother kindling another one?\n",
    "\n",
    "Yet, you think, it might not be a bad idea. Relationships always work out, and this can be an escape from a tense, complex life. Unmarried at home, lost in a loud, irregular reality ... maybe sometime, just maybe, it's time I found the one.\n",
    "\n",
    "If he's a guy who is faithful, kind, and will be mine joyously to the end, I will prove to him I shall cherish and treasure him just as much. But how do I say it? I can't place the words...\n",
    "\n",
    "\"You absolutely need to know\", I say, nervously, \"that I...I...I...\"\n",
    "'''\n",
    "print(\"\\033[1m\" + 'Text: ' + \"\\033[0m\", text)"
   ]
  },
  {
   "cell_type": "markdown",
   "metadata": {},
   "source": [
    "#### 2. import necessary libraries"
   ]
  },
  {
   "cell_type": "code",
   "execution_count": 2,
   "metadata": {},
   "outputs": [],
   "source": [
    "import re"
   ]
  },
  {
   "cell_type": "markdown",
   "metadata": {},
   "source": [
    "#### 3. replace Umlaute"
   ]
  },
  {
   "cell_type": "code",
   "execution_count": 3,
   "metadata": {},
   "outputs": [
    {
     "name": "stdout",
     "output_type": "stream",
     "text": [
      "\n",
      "He arrived.\n",
      "\n",
      "He arrived at my door extremely late one day.\n",
      "\n",
      "If you only did uninteresting, idle things in your life, always acting as if nothing he does will change your opinion ... can go well.\n",
      "\n",
      "But one awful dilemma I face, is that growing emotion ruins my serious, careful way of thinking. If a love flame is forced and futile, why bother kindling another one?\n",
      "\n",
      "Yet, you think, it might not be a bad idea. Relationships always work out, and this can be an escape from a tense, complex life. Unmarried at home, lost in a loud, irregular reality ... maybe sometime, just maybe, it's time I found the one.\n",
      "\n",
      "If he's a guy who is faithful, kind, and will be mine joyously to the end, I will prove to him I shall cherish and treasure him just as much. But how do I say it? I can't place the words...\n",
      "\n",
      "\"You absolutely need to know\", I say, nervously, \"that I...I...I...\"\n",
      "\n"
     ]
    }
   ],
   "source": [
    "text=text.replace(\"ä\",\"ae\").replace(\"Ä\",\"Ae\").replace(\"ö\",\"oe\").replace(\"Ö\",\"oe\").replace(\"ü\",\"ue\").replace(\"Ü\",\"ue\")\n",
    "print(text)"
   ]
  },
  {
   "cell_type": "markdown",
   "metadata": {},
   "source": [
    "#### 4. remove punctations and digits"
   ]
  },
  {
   "cell_type": "code",
   "execution_count": 4,
   "metadata": {},
   "outputs": [
    {
     "name": "stdout",
     "output_type": "stream",
     "text": [
      "\u001b[1mText without punctations: \u001b[0m \n",
      "He arrived\n",
      "\n",
      "He arrived at my door extremely late one day\n",
      "\n",
      "If you only did uninteresting idle things in your life always acting as if nothing he does will change your opinion  can go well\n",
      "\n",
      "But one awful dilemma I face is that growing emotion ruins my serious careful way of thinking If a love flame is forced and futile why bother kindling another one\n",
      "\n",
      "Yet you think it might not be a bad idea Relationships always work out and this can be an escape from a tense complex life Unmarried at home lost in a loud irregular reality  maybe sometime just maybe its time I found the one\n",
      "\n",
      "If hes a guy who is faithful kind and will be mine joyously to the end I will prove to him I shall cherish and treasure him just as much But how do I say it I cant place the words\n",
      "\n",
      "You absolutely need to know I say nervously that III\n",
      "\n"
     ]
    }
   ],
   "source": [
    "# Our dictionary (https://en.wikipedia.org/wiki/Associative_array) SCRABBLE in part 6. \n",
    "# contains only alphabetical characters, so we will remove all digits and punctuations.\n",
    "\n",
    "remove_digits = str.maketrans('', '', '0123456789')\n",
    "text = text.translate(remove_digits)\n",
    "\n",
    "# import necessary library\n",
    "import re\n",
    "textt = re.sub(r'[^\\w\\s]','',text)\n",
    "print(\"\\033[1m\" + 'Text without punctations: ' + \"\\033[0m\", textt)"
   ]
  },
  {
   "cell_type": "markdown",
   "metadata": {},
   "source": [
    "#### 5. tokenize it!"
   ]
  },
  {
   "cell_type": "code",
   "execution_count": 5,
   "metadata": {},
   "outputs": [
    {
     "name": "stdout",
     "output_type": "stream",
     "text": [
      "\u001b[1mTokenized Text: \u001b[0m ['He', 'arrived', 'He', 'arrived', 'at', 'my', 'door', 'extremely', 'late', 'one', 'day', 'If', 'you', 'only', 'did', 'uninteresting', 'idle', 'things', 'in', 'your', 'life', 'always', 'acting', 'as', 'if', 'nothing', 'he', 'does', 'will', 'change', 'your', 'opinion', 'can', 'go', 'well', 'But', 'one', 'awful', 'dilemma', 'I', 'face', 'is', 'that', 'growing', 'emotion', 'ruins', 'my', 'serious', 'careful', 'way', 'of', 'thinking', 'If', 'a', 'love', 'flame', 'is', 'forced', 'and', 'futile', 'why', 'bother', 'kindling', 'another', 'one', 'Yet', 'you', 'think', 'it', 'might', 'not', 'be', 'a', 'bad', 'idea', 'Relationships', 'always', 'work', 'out', 'and', 'this', 'can', 'be', 'an', 'escape', 'from', 'a', 'tense', 'complex', 'life', 'Unmarried', 'at', 'home', 'lost', 'in', 'a', 'loud', 'irregular', 'reality', 'maybe', 'sometime', 'just', 'maybe', 'its', 'time', 'I', 'found', 'the', 'one', 'If', 'hes', 'a', 'guy', 'who', 'is', 'faithful', 'kind', 'and', 'will', 'be', 'mine', 'joyously', 'to', 'the', 'end', 'I', 'will', 'prove', 'to', 'him', 'I', 'shall', 'cherish', 'and', 'treasure', 'him', 'just', 'as', 'much', 'But', 'how', 'do', 'I', 'say', 'it', 'I', 'cant', 'place', 'the', 'words', 'You', 'absolutely', 'need', 'to', 'know', 'I', 'say', 'nervously', 'that', 'III']\n"
     ]
    }
   ],
   "source": [
    "word = textt.split()\n",
    "print(\"\\033[1m\" + 'Tokenized Text: ' + \"\\033[0m\", word)"
   ]
  },
  {
   "cell_type": "markdown",
   "metadata": {},
   "source": [
    "#### 6. set scrabble + beatnik-function dictionaries"
   ]
  },
  {
   "cell_type": "code",
   "execution_count": 6,
   "metadata": {},
   "outputs": [],
   "source": [
    "SCRABBLE = {\n",
    "    'A': 1,\n",
    "    'B': 3,\n",
    "    'C': 3,\n",
    "    'D': 2,\n",
    "    'E': 1,\n",
    "    'F': 4,\n",
    "    'G': 2,\n",
    "    'H': 4,\n",
    "    'I': 1,\n",
    "    'J': 8,\n",
    "    'K': 5,\n",
    "    'L': 1,\n",
    "    'M': 3,\n",
    "    'N': 1,\n",
    "    'O': 1,\n",
    "    'P': 3,\n",
    "    'Q': 10,\n",
    "    'R': 1,\n",
    "    'S': 1,\n",
    "    'T': 1,\n",
    "    'U': 1,\n",
    "    'V': 4,\n",
    "    'W': 4,\n",
    "    'X': 8,\n",
    "    'Y': 4,\n",
    "    'Z': 10\n",
    "}\n",
    "\n",
    "ACTION = {\n",
    "    5: 'PUSH',\n",
    "    6: 'DISCARD',\n",
    "    7: 'ADD',\n",
    "    8: 'INPUT',\n",
    "    9: 'OUTPUT',\n",
    "    10: 'SUBTRACT',\n",
    "    11: 'SWAP',\n",
    "    12: 'DUP',\n",
    "    13: 'SKIP_AHEAD_ZERO',\n",
    "    14: 'SKIP_AHEAD_NONZERO',\n",
    "    15: 'SKIP_BACK_ZERO',\n",
    "    16: 'SKIP_BACK_NONZERO',\n",
    "    17: 'STOP',\n",
    "}\n",
    "\n",
    "# counting-function...\n",
    "def scrabble(word):\n",
    "    acc = 0\n",
    "    for c in word.upper():\n",
    "        # check if c exists in scrabble (otherwise we'll get an error)\n",
    "        if c in SCRABBLE:\n",
    "            acc += SCRABBLE[c]\n",
    "    return acc"
   ]
  },
  {
   "cell_type": "markdown",
   "metadata": {},
   "source": [
    "The following table describes the meaning of the ACTIONS (see above).\n",
    "\n",
    "\n",
    "| Score | Pseudo-Code                            | Description                                                                                                                                                                                                                                                                     |\n",
    "|-------|----------------------------------------|---------------------------------------------------------------------------------------------------------------------------------------------------------------------------------------------------------------------------------------------------------------------------------|\n",
    "| <5    | NOOP                                   | Does nothing. The Beatnik Interpreter may mock you for your poor scoring, at its discretion.                                                                                                                                                                                    |\n",
    "| 5 n   | push(n)                                | Finds the score of the next word and push it onto the stack. <br>the actual word with 5 is then skipped.                                                                                                                                                                        |\n",
    "| 6     | pop(n)                                 | Pops the top number off the stack and discards it.                                                                                                                                                                                                                              |\n",
    "| 7     | push(pop()+pop())                      | Adds the top two values on the stack together                                                                                                                                                                                                                                   |\n",
    "| 8     | push(input())                          | Input a character from the user and push its value on the stack. Waits for a keypress.                                                                                                                                                                                          |\n",
    "| 9     | print(pop())                           | Pop a number off the stack and output the corresponding ASCII character to the screen.                                                                                                                                                                                          |\n",
    "| 10    | push(pop()-pop())                      | Pop two numbers from the stack, subtract the first one popped from the second one popped, and push the result.                                                                                                                                                                  |\n",
    "| 11    | a = pop(); b = pop(); push(a); push(b) | Swap the top two values on the stack.                                                                                                                                                                                                                                           |\n",
    "| 12    | a = pop(); push(a); push(a)            | Duplicate the top value and pushes the value on top of the stack.                                                                                                                                                                                                               |\n",
    "| 13 n  | if(top()==0) jump(+n)                  | Pop a number from the stack, and figure out the score of the next word. <br>If the number from the stack is zero, skip ahead by n words, where n is the score of the next word. <br>(The skipping is actually n+1 words, because the word scored to give us n is also skipped.) |\n",
    "| 14 n   | if(top()!=0) jump(+n)                  | Same as above, except skip if the value on the stack isn't zero.                                                                                                                                                                                                                |\n",
    "| 15    | if(top()==0) jump(-n)                  | Skip back n words, if the value on the stack is zero.                                                                                                                                                                                                                           |\n",
    "| 16    | if(top()!=0) jump(-n)                  | Skip back if it's not zero.                                                                                                                                                                                                                                                     |\n",
    "| 17    | exit()                                 | Stop the program.                                                                                                                                                                                                                                                               |\n",
    "| 18-23 | NOOP                                   | Does nothing. However, the score is high enough that the Beatnik Interpreter will not mock you, unless it's had a really bad day.                                                                                                                                               |\n",
    "| >23   |                                        | Generates \"Beatnik applause\" for the programmer.  "
   ]
  },
  {
   "cell_type": "markdown",
   "metadata": {},
   "source": [
    "#### 7. print out the scrabble-values + beatnik-functions"
   ]
  },
  {
   "cell_type": "code",
   "execution_count": 7,
   "metadata": {},
   "outputs": [
    {
     "name": "stdout",
     "output_type": "stream",
     "text": [
      "[5:PUSH/\u001b[1mHe\u001b[0m][11:SWAP/\u001b[1marrived\u001b[0m][5:PUSH/\u001b[1mHe\u001b[0m][11:SWAP/\u001b[1marrived\u001b[0m][2:NOP/\u001b[1mat\u001b[0m][7:ADD/\u001b[1mmy\u001b[0m][5:PUSH/\u001b[1mdoor\u001b[0m][21:NOP/\u001b[1mextremely\u001b[0m][4:NOP/\u001b[1mlate\u001b[0m][3:NOP/\u001b[1mone\u001b[0m][7:ADD/\u001b[1mday\u001b[0m][5:PUSH/\u001b[1mIf\u001b[0m][6:DISCARD/\u001b[1myou\u001b[0m][7:ADD/\u001b[1monly\u001b[0m][5:PUSH/\u001b[1mdid\u001b[0m][14:SKIP_AHEAD_NONZERO/\u001b[1muninteresting\u001b[0m][5:PUSH/\u001b[1midle\u001b[0m][10:SUBTRACT/\u001b[1mthings\u001b[0m][2:NOP/\u001b[1min\u001b[0m][7:ADD/\u001b[1myour\u001b[0m][7:ADD/\u001b[1mlife\u001b[0m][12:DUP/\u001b[1malways\u001b[0m][9:OUTPUT/\u001b[1macting\u001b[0m][2:NOP/\u001b[1mas\u001b[0m][5:PUSH/\u001b[1mif\u001b[0m][11:SWAP/\u001b[1mnothing\u001b[0m][5:PUSH/\u001b[1mhe\u001b[0m][5:PUSH/\u001b[1mdoes\u001b[0m][7:ADD/\u001b[1mwill\u001b[0m][12:DUP/\u001b[1mchange\u001b[0m][7:ADD/\u001b[1myour\u001b[0m][9:OUTPUT/\u001b[1mopinion\u001b[0m][5:PUSH/\u001b[1mcan\u001b[0m][3:NOP/\u001b[1mgo\u001b[0m][7:ADD/\u001b[1mwell\u001b[0m][5:PUSH/\u001b[1mBut\u001b[0m][3:NOP/\u001b[1mone\u001b[0m][11:SWAP/\u001b[1mawful\u001b[0m][12:DUP/\u001b[1mdilemma\u001b[0m][1:NOP/\u001b[1mI\u001b[0m][9:OUTPUT/\u001b[1mface\u001b[0m][2:NOP/\u001b[1mis\u001b[0m][7:ADD/\u001b[1mthat\u001b[0m][12:DUP/\u001b[1mgrowing\u001b[0m][9:OUTPUT/\u001b[1memotion\u001b[0m][5:PUSH/\u001b[1mruins\u001b[0m][7:ADD/\u001b[1mmy\u001b[0m][7:ADD/\u001b[1mserious\u001b[0m][12:DUP/\u001b[1mcareful\u001b[0m][9:OUTPUT/\u001b[1mway\u001b[0m][5:PUSH/\u001b[1mof\u001b[0m][16:SKIP_BACK_NONZERO/\u001b[1mthinking\u001b[0m][5:PUSH/\u001b[1mIf\u001b[0m][1:NOP/\u001b[1ma\u001b[0m][7:ADD/\u001b[1mlove\u001b[0m][10:SUBTRACT/\u001b[1mflame\u001b[0m][2:NOP/\u001b[1mis\u001b[0m][12:DUP/\u001b[1mforced\u001b[0m][4:NOP/\u001b[1mand\u001b[0m][9:OUTPUT/\u001b[1mfutile\u001b[0m][12:DUP/\u001b[1mwhy\u001b[0m][11:SWAP/\u001b[1mbother\u001b[0m][14:SKIP_AHEAD_NONZERO/\u001b[1mkindling\u001b[0m][10:SUBTRACT/\u001b[1manother\u001b[0m][3:NOP/\u001b[1mone\u001b[0m][6:DISCARD/\u001b[1mYet\u001b[0m][6:DISCARD/\u001b[1myou\u001b[0m][12:DUP/\u001b[1mthink\u001b[0m][2:NOP/\u001b[1mit\u001b[0m][11:SWAP/\u001b[1mmight\u001b[0m][3:NOP/\u001b[1mnot\u001b[0m][4:NOP/\u001b[1mbe\u001b[0m][1:NOP/\u001b[1ma\u001b[0m][6:DISCARD/\u001b[1mbad\u001b[0m][5:PUSH/\u001b[1midea\u001b[0m][18:NOP/\u001b[1mRelationships\u001b[0m][12:DUP/\u001b[1malways\u001b[0m][11:SWAP/\u001b[1mwork\u001b[0m][3:NOP/\u001b[1mout\u001b[0m][4:NOP/\u001b[1mand\u001b[0m][7:ADD/\u001b[1mthis\u001b[0m][5:PUSH/\u001b[1mcan\u001b[0m][4:NOP/\u001b[1mbe\u001b[0m][2:NOP/\u001b[1man\u001b[0m][10:SUBTRACT/\u001b[1mescape\u001b[0m][9:OUTPUT/\u001b[1mfrom\u001b[0m][1:NOP/\u001b[1ma\u001b[0m][5:PUSH/\u001b[1mtense\u001b[0m][20:NOP/\u001b[1mcomplex\u001b[0m][7:ADD/\u001b[1mlife\u001b[0m][12:DUP/\u001b[1mUnmarried\u001b[0m][2:NOP/\u001b[1mat\u001b[0m][9:OUTPUT/\u001b[1mhome\u001b[0m][4:NOP/\u001b[1mlost\u001b[0m][2:NOP/\u001b[1min\u001b[0m][1:NOP/\u001b[1ma\u001b[0m][5:PUSH/\u001b[1mloud\u001b[0m][10:SUBTRACT/\u001b[1mirregular\u001b[0m][10:SUBTRACT/\u001b[1mreality\u001b[0m][12:DUP/\u001b[1mmaybe\u001b[0m][12:DUP/\u001b[1msometime\u001b[0m][11:SWAP/\u001b[1mjust\u001b[0m][12:DUP/\u001b[1mmaybe\u001b[0m][3:NOP/\u001b[1mits\u001b[0m][6:DISCARD/\u001b[1mtime\u001b[0m][1:NOP/\u001b[1mI\u001b[0m][9:OUTPUT/\u001b[1mfound\u001b[0m][6:DISCARD/\u001b[1mthe\u001b[0m][3:NOP/\u001b[1mone\u001b[0m][5:PUSH/\u001b[1mIf\u001b[0m][6:DISCARD/\u001b[1mhes\u001b[0m][1:NOP/\u001b[1ma\u001b[0m][7:ADD/\u001b[1mguy\u001b[0m][9:OUTPUT/\u001b[1mwho\u001b[0m][2:NOP/\u001b[1mis\u001b[0m][17:STOP/\u001b[1mfaithful\u001b[0m][9:OUTPUT/\u001b[1mkind\u001b[0m][4:NOP/\u001b[1mand\u001b[0m][7:ADD/\u001b[1mwill\u001b[0m][4:NOP/\u001b[1mbe\u001b[0m][6:DISCARD/\u001b[1mmine\u001b[0m][21:NOP/\u001b[1mjoyously\u001b[0m][2:NOP/\u001b[1mto\u001b[0m][6:DISCARD/\u001b[1mthe\u001b[0m][4:NOP/\u001b[1mend\u001b[0m][1:NOP/\u001b[1mI\u001b[0m][7:ADD/\u001b[1mwill\u001b[0m][10:SUBTRACT/\u001b[1mprove\u001b[0m][2:NOP/\u001b[1mto\u001b[0m][8:INPUT/\u001b[1mhim\u001b[0m][1:NOP/\u001b[1mI\u001b[0m][8:INPUT/\u001b[1mshall\u001b[0m][15:SKIP_BACK_ZERO/\u001b[1mcherish\u001b[0m][4:NOP/\u001b[1mand\u001b[0m][8:INPUT/\u001b[1mtreasure\u001b[0m][8:INPUT/\u001b[1mhim\u001b[0m][11:SWAP/\u001b[1mjust\u001b[0m][2:NOP/\u001b[1mas\u001b[0m][11:SWAP/\u001b[1mmuch\u001b[0m][5:PUSH/\u001b[1mBut\u001b[0m][9:OUTPUT/\u001b[1mhow\u001b[0m][3:NOP/\u001b[1mdo\u001b[0m][1:NOP/\u001b[1mI\u001b[0m][6:DISCARD/\u001b[1msay\u001b[0m][2:NOP/\u001b[1mit\u001b[0m][1:NOP/\u001b[1mI\u001b[0m][6:DISCARD/\u001b[1mcant\u001b[0m][9:OUTPUT/\u001b[1mplace\u001b[0m][6:DISCARD/\u001b[1mthe\u001b[0m][9:OUTPUT/\u001b[1mwords\u001b[0m][6:DISCARD/\u001b[1mYou\u001b[0m][15:SKIP_BACK_ZERO/\u001b[1mabsolutely\u001b[0m][5:PUSH/\u001b[1mneed\u001b[0m][2:NOP/\u001b[1mto\u001b[0m][11:SWAP/\u001b[1mknow\u001b[0m][1:NOP/\u001b[1mI\u001b[0m][6:DISCARD/\u001b[1msay\u001b[0m][15:SKIP_BACK_ZERO/\u001b[1mnervously\u001b[0m][7:ADD/\u001b[1mthat\u001b[0m][3:NOP/\u001b[1mIII\u001b[0m]"
     ]
    }
   ],
   "source": [
    "#setup array of value\n",
    "VALUE = []\n",
    "#counter = 0\n",
    "for i in word:\n",
    "    value = scrabble(i)\n",
    "    VALUE.append(value)\n",
    "    # to print with linebreaks:\n",
    "    #print (\"%s\\t[%s:%s/%s]\" % (counter, value, ACTION.get(value, 'NOP'), \"\\033[1m\" + i + \"\\033[0m\"))\n",
    "    # to print without linebreaks:\n",
    "    print (\"[%s:%s/%s]\" % (value, ACTION.get(value, 'NOP'), \"\\033[1m\" + i + \"\\033[0m\"), end='')"
   ]
  },
  {
   "cell_type": "markdown",
   "metadata": {},
   "source": [
    "#### 8. beatnik interpreter\n",
    "\n",
    "Thanks @[Ting](https://github.com/aprilcoffee)!\n",
    "\n",
    "The function beatnik() below executes the program (your text) which is defined in the VALUE above."
   ]
  },
  {
   "cell_type": "code",
   "execution_count": 8,
   "metadata": {},
   "outputs": [
    {
     "name": "stdout",
     "output_type": "stream",
     "text": [
      "output of your text:\n",
      "\n",
      "I LOVE YOU"
     ]
    }
   ],
   "source": [
    "def PUSH(index):\n",
    "    #exception for ArrayIndexOutOfBoundary\n",
    "    index+=1 \n",
    "    if(index < len(VALUE)):\n",
    "        stack.append(VALUE[index]%256)\n",
    "    return index\n",
    "def DISCARD(index):\n",
    "    if(len(stack) > 0):\n",
    "        stack.pop()\n",
    "    return index\n",
    "def ADD(index):\n",
    "    #add only when there are more than two elements\n",
    "    if(len(stack)>=2):\n",
    "        a = stack.pop()\n",
    "        b = stack.pop()\n",
    "        stack.append(a+b)\n",
    "    return index\n",
    "def INPUT(index):\n",
    "    stack.append(scrabble(input(\"input your own word:\")))\n",
    "    return index\n",
    "def OUTPUT(index):\n",
    "    #output only when there are at least 1 element\n",
    "    if(len(stack)>0):\n",
    "        print(chr(abs(stack.pop()%256)),end='')\n",
    "    return index\n",
    "def SUBTRACT(index):\n",
    "    #subtract only when there are more than two elements\n",
    "    if(len(stack)>=2):\n",
    "        a = stack.pop()\n",
    "        b = stack.pop()\n",
    "        stack.append(b-a)\n",
    "    return index\n",
    "def SWAP(index):\n",
    "    #swap only when there are more than two elements\n",
    "    if(len(stack)>=2):\n",
    "        a = stack.pop()\n",
    "        b = stack.pop()\n",
    "        stack.append(a)\n",
    "        stack.append(b)\n",
    "    return index\n",
    "def DUP(index):\n",
    "    #duplicate only when there are at least 1 element\n",
    "    if(len(stack)>=1):\n",
    "        a = stack.pop()\n",
    "        stack.append(a)\n",
    "        stack.append(a)\n",
    "    return index\n",
    "def SKIP_AHEAD_ZERO(index):\n",
    "    a = None\n",
    "    if(len(stack)!=0):\n",
    "        a = stack.pop()\n",
    "    \n",
    "    index += 1\n",
    "    #exception for ArrayIndexOutOfBoundary\n",
    "    if(index < len(VALUE)):\n",
    "        dist = VALUE[index]\n",
    "    else:\n",
    "        dist = 0\n",
    "    \n",
    "    if(a == 0):\n",
    "        return index + dist\n",
    "    else:\n",
    "        return index\n",
    "def SKIP_AHEAD_NONZERO(index):\n",
    "    a = None\n",
    "    if(len(stack)!=0):\n",
    "        a = stack.pop()\n",
    "        \n",
    "    index+=1\n",
    "    #exception for ArrayIndexOutOfBoundary\n",
    "    if(index < len(VALUE)):\n",
    "        dist = VALUE[index]\n",
    "    else:\n",
    "        dist = 0\n",
    "    \n",
    "    if(a != 0):\n",
    "        return index + dist\n",
    "    else:\n",
    "        return index\n",
    "def SKIP_BACK_ZERO(index):\n",
    "    a = None\n",
    "    if(len(stack)!=0):\n",
    "        a = stack.pop()\n",
    "    \n",
    "    #exception for ArrayIndexOutOfBoundary\n",
    "    if(index+1 < len(VALUE)):\n",
    "        dist = VALUE[index+1]\n",
    "    else:\n",
    "        dist = 0\n",
    "    \n",
    "    if(a == 0):\n",
    "        return index - dist\n",
    "    else:\n",
    "        return index\n",
    "def SKIP_BACK_NONZERO(index):\n",
    "    a = None\n",
    "    if(len(stack)!=0):\n",
    "        a = stack.pop()\n",
    "    \n",
    "    #exception for ArrayIndexOutOfBoundary\n",
    "    if(index+1 < len(VALUE)):\n",
    "        dist = VALUE[index+1]\n",
    "    else:\n",
    "        dist = 0\n",
    "    \n",
    "    if(a != 0):\n",
    "        return index - dist\n",
    "    else:\n",
    "        return index\n",
    "def STOP(index):\n",
    "    return len(VALUE)\n",
    "\n",
    "            \n",
    "def beatnik():\n",
    "    index = 0 \n",
    "    length = len(VALUE)\n",
    "    while(index < length):\n",
    "        \n",
    "        n = VALUE[index]\n",
    "        \n",
    "        #debug print\n",
    "        #print(index,ACTION.get(n, 'NOP'),word[index],stack)\n",
    "\n",
    "        if(n>=5 and n<= 17):        \n",
    "                if(n==5):\n",
    "                    index = PUSH(index)\n",
    "                if(n==6):\n",
    "                    index = DISCARD(index)\n",
    "                if(n==7):\n",
    "                    index = ADD(index)\n",
    "                if(n==8):\n",
    "                    index = INPUT(index)\n",
    "                if(n==9):\n",
    "                    index = OUTPUT(index)\n",
    "                if(n==10):\n",
    "                    index = SUBTRACT(index)\n",
    "                if(n==11):\n",
    "                    index = SWAP(index)\n",
    "                if(n==12):\n",
    "                    index = DUP(index)\n",
    "                if(n==13):\n",
    "                    index = SKIP_AHEAD_ZERO(index)\n",
    "                if(n==14):\n",
    "                    index = SKIP_AHEAD_NONZERO(index)\n",
    "                if(n==15):\n",
    "                    index = SKIP_BACK_ZERO(index)\n",
    "                if(n==16):\n",
    "                    index = SKIP_BACK_NONZERO(index)\n",
    "                if(n==17):\n",
    "                    index = STOP(index)   \n",
    "                #moving to next index\n",
    "                index += 1\n",
    "        else:\n",
    "            #non\n",
    "            index += 1\n",
    "\n",
    "\n",
    "\n",
    "#create dynamic stack                \n",
    "stack = []\n",
    "\n",
    "print('output of your text:\\n')\n",
    "#execute\n",
    "\n",
    "beatnik()\n"
   ]
  },
  {
   "cell_type": "markdown",
   "metadata": {},
   "source": [
    "#### 9. appendix"
   ]
  },
  {
   "cell_type": "code",
   "execution_count": 9,
   "metadata": {},
   "outputs": [
    {
     "name": "stdout",
     "output_type": "stream",
     "text": [
      "H  =  72\n",
      "e  =  101\n",
      "l  =  108\n",
      "l  =  108\n",
      "o  =  111\n",
      "   =  32\n",
      "W  =  87\n",
      "o  =  111\n",
      "r  =  114\n",
      "l  =  108\n",
      "d  =  100\n",
      "!  =  33\n"
     ]
    }
   ],
   "source": [
    "''' Helper function to convert a target string into target ascii values. '''\n",
    "\n",
    "target = 'Hello World!'\n",
    "target_ascii = []\n",
    "for i in range(len(target)):\n",
    "    target_ascii.append(ord(target[i]))\n",
    "    print(target[i], ' = ', target_ascii[i])    "
   ]
  },
  {
   "cell_type": "markdown",
   "metadata": {},
   "source": [
    "#### additional links\n",
    "Now, if you click >**[here](https://exmediawiki.khm.de/exmediawiki/index.php/ASCII-Tabelle)**<, you will find an ASCII-Table\n",
    "\n",
    "if you click >**[here](https://exmediawiki.khm.de/exmediawiki/index.php/Beatnik#Code-Examples)**<, you will find some beatnik-code examples\n",
    "\n",
    "and if you click >**[here](https://exmediawiki.khm.de/exmediawiki/index.php/Beatnik#Commands)**<, there is a table which explains the commands connected to the scrabble-values\n",
    "\n",
    "browser-based beatnik interpreter> https://tio.run/#beatnik"
   ]
  }
 ],
 "metadata": {
  "kernelspec": {
   "display_name": "Python 3",
   "language": "python",
   "name": "python3"
  },
  "language_info": {
   "codemirror_mode": {
    "name": "ipython",
    "version": 3
   },
   "file_extension": ".py",
   "mimetype": "text/x-python",
   "name": "python",
   "nbconvert_exporter": "python",
   "pygments_lexer": "ipython3",
   "version": "3.7.5"
  }
 },
 "nbformat": 4,
 "nbformat_minor": 4
}
