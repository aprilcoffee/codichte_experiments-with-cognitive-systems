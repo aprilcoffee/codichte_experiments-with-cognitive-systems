{
 "cells": [
  {
   "cell_type": "markdown",
   "metadata": {},
   "source": [
    "#### 1. Set variables (strings)\n",
    "read the text from thomas meckel into the machine and output again *in the same way* with the `print` command"
   ]
  },
  {
   "cell_type": "code",
   "execution_count": 115,
   "metadata": {},
   "outputs": [
    {
     "name": "stdout",
     "output_type": "stream",
     "text": [
      "\u001b[1mText: \u001b[0m K. C. R. sieben eins. Die mit dem unfall sind mit sitz sieht \n",
      "freute sich kein auf die schule. J.. Ich guten warnweste tragen \n",
      "ihren anwalt der grundstein kann der auf dem O. G. K. N. zwei zwei \n",
      "null sechs G. T. R. S. K. M. eins zweitausend mann auf feuz bordstein \n",
      "mit tasse und sigrid für mitarbeiter und besucher in der media schul \n",
      "comedia gilt handbuch studio richtig ist es sieben bis neun. \n",
      "Pause severinstraße ende vorstellbar reich kompletten einberufen \n",
      "viel computersoftware thiele bekleidung neue weit siebzehn \n",
      "rodenkirchen einhundertsechs heumarkt. Severinstraße \n",
      "mercure hotel sehr straße man geht über die straße \n",
      "mann fährt fahrrad auf der straße jammer hat und lese fehler \n",
      "hermes paketshop thai imbiss thailändische bis herzlich hallo \n",
      "willkommen als sportlicher warmer mittelberg der kreisenden \n",
      "kölsch apotheke haus nagelstudio man mit maske reparaturen zu \n",
      "verbrannt die apotheke. Schmidt nennt sieben da handy shop \n",
      "gekühlt kölsch kickte M. T. J.. Palermo geht zu wann sie es für den \n",
      "ein. Müller war im bist weg reich der hand supermarkt. Vetter.\n"
     ]
    }
   ],
   "source": [
    "#insert text\n",
    "text = '''K. C. R. sieben eins. Die mit dem unfall sind mit sitz sieht \n",
    "freute sich kein auf die schule. J.. Ich guten warnweste tragen \n",
    "ihren anwalt der grundstein kann der auf dem O. G. K. N. zwei zwei \n",
    "null sechs G. T. R. S. K. M. eins zweitausend mann auf feuz bordstein \n",
    "mit tasse und sigrid für mitarbeiter und besucher in der media schul \n",
    "comedia gilt handbuch studio richtig ist es sieben bis neun. \n",
    "Pause severinstraße ende vorstellbar reich kompletten einberufen \n",
    "viel computersoftware thiele bekleidung neue weit siebzehn \n",
    "rodenkirchen einhundertsechs heumarkt. Severinstraße \n",
    "mercure hotel sehr straße man geht über die straße \n",
    "mann fährt fahrrad auf der straße jammer hat und lese fehler \n",
    "hermes paketshop thai imbiss thailändische bis herzlich hallo \n",
    "willkommen als sportlicher warmer mittelberg der kreisenden \n",
    "kölsch apotheke haus nagelstudio man mit maske reparaturen zu \n",
    "verbrannt die apotheke. Schmidt nennt sieben da handy shop \n",
    "gekühlt kölsch kickte M. T. J.. Palermo geht zu wann sie es für den \n",
    "ein. Müller war im bist weg reich der hand supermarkt. Vetter.'''\n",
    "print(\"\\033[1m\" + 'Text: ' + \"\\033[0m\", text)"
   ]
  },
  {
   "cell_type": "markdown",
   "metadata": {},
   "source": [
    "#### 2. Import necessary libraries"
   ]
  },
  {
   "cell_type": "code",
   "execution_count": 116,
   "metadata": {},
   "outputs": [],
   "source": [
    "import re"
   ]
  },
  {
   "cell_type": "markdown",
   "metadata": {},
   "source": [
    "#### 3. replace Umlaute"
   ]
  },
  {
   "cell_type": "code",
   "execution_count": 117,
   "metadata": {},
   "outputs": [
    {
     "name": "stdout",
     "output_type": "stream",
     "text": [
      "K. C. R. sieben eins. Die mit dem unfall sind mit sitz sieht \n",
      "freute sich kein auf die schule. J.. Ich guten warnweste tragen \n",
      "ihren anwalt der grundstein kann der auf dem O. G. K. N. zwei zwei \n",
      "null sechs G. T. R. S. K. M. eins zweitausend mann auf feuz bordstein \n",
      "mit tasse und sigrid fuer mitarbeiter und besucher in der media schul \n",
      "comedia gilt handbuch studio richtig ist es sieben bis neun. \n",
      "Pause severinstraße ende vorstellbar reich kompletten einberufen \n",
      "viel computersoftware thiele bekleidung neue weit siebzehn \n",
      "rodenkirchen einhundertsechs heumarkt. Severinstraße \n",
      "mercure hotel sehr straße man geht ueber die straße \n",
      "mann faehrt fahrrad auf der straße jammer hat und lese fehler \n",
      "hermes paketshop thai imbiss thailaendische bis herzlich hallo \n",
      "willkommen als sportlicher warmer mittelberg der kreisenden \n",
      "koelsch apotheke haus nagelstudio man mit maske reparaturen zu \n",
      "verbrannt die apotheke. Schmidt nennt sieben da handy shop \n",
      "gekuehlt koelsch kickte M. T. J.. Palermo geht zu wann sie es fuer den \n",
      "ein. Mueller war im bist weg reich der hand supermarkt. Vetter.\n"
     ]
    }
   ],
   "source": [
    "text=text.replace(\"ä\",\"ae\").replace(\"Ä\",\"Ae\").replace(\"ö\",\"oe\").replace(\"Ö\",\"oe\").replace(\"ü\",\"ue\").replace(\"Ü\",\"ue\")\n",
    "print(text)"
   ]
  },
  {
   "cell_type": "markdown",
   "metadata": {},
   "source": [
    "#### 4. remove punctations"
   ]
  },
  {
   "cell_type": "code",
   "execution_count": 118,
   "metadata": {},
   "outputs": [
    {
     "name": "stdout",
     "output_type": "stream",
     "text": [
      "\u001b[1mText without punctations: \u001b[0m K C R sieben eins Die mit dem unfall sind mit sitz sieht \n",
      "freute sich kein auf die schule J Ich guten warnweste tragen \n",
      "ihren anwalt der grundstein kann der auf dem O G K N zwei zwei \n",
      "null sechs G T R S K M eins zweitausend mann auf feuz bordstein \n",
      "mit tasse und sigrid fuer mitarbeiter und besucher in der media schul \n",
      "comedia gilt handbuch studio richtig ist es sieben bis neun \n",
      "Pause severinstraße ende vorstellbar reich kompletten einberufen \n",
      "viel computersoftware thiele bekleidung neue weit siebzehn \n",
      "rodenkirchen einhundertsechs heumarkt Severinstraße \n",
      "mercure hotel sehr straße man geht ueber die straße \n",
      "mann faehrt fahrrad auf der straße jammer hat und lese fehler \n",
      "hermes paketshop thai imbiss thailaendische bis herzlich hallo \n",
      "willkommen als sportlicher warmer mittelberg der kreisenden \n",
      "koelsch apotheke haus nagelstudio man mit maske reparaturen zu \n",
      "verbrannt die apotheke Schmidt nennt sieben da handy shop \n",
      "gekuehlt koelsch kickte M T J Palermo geht zu wann sie es fuer den \n",
      "ein Mueller war im bist weg reich der hand supermarkt Vetter\n"
     ]
    }
   ],
   "source": [
    "textt = re.sub(r'[^\\w\\s]','',text)\n",
    "print(\"\\033[1m\" + 'Text without punctations: ' + \"\\033[0m\", textt)"
   ]
  },
  {
   "cell_type": "markdown",
   "metadata": {},
   "source": [
    "#### 5. tokenize it!"
   ]
  },
  {
   "cell_type": "code",
   "execution_count": 119,
   "metadata": {},
   "outputs": [
    {
     "name": "stdout",
     "output_type": "stream",
     "text": [
      "\u001b[1mTokenized Text: \u001b[0m ['K', 'C', 'R', 'sieben', 'eins', 'Die', 'mit', 'dem', 'unfall', 'sind', 'mit', 'sitz', 'sieht', 'freute', 'sich', 'kein', 'auf', 'die', 'schule', 'J', 'Ich', 'guten', 'warnweste', 'tragen', 'ihren', 'anwalt', 'der', 'grundstein', 'kann', 'der', 'auf', 'dem', 'O', 'G', 'K', 'N', 'zwei', 'zwei', 'null', 'sechs', 'G', 'T', 'R', 'S', 'K', 'M', 'eins', 'zweitausend', 'mann', 'auf', 'feuz', 'bordstein', 'mit', 'tasse', 'und', 'sigrid', 'fuer', 'mitarbeiter', 'und', 'besucher', 'in', 'der', 'media', 'schul', 'comedia', 'gilt', 'handbuch', 'studio', 'richtig', 'ist', 'es', 'sieben', 'bis', 'neun', 'Pause', 'severinstraße', 'ende', 'vorstellbar', 'reich', 'kompletten', 'einberufen', 'viel', 'computersoftware', 'thiele', 'bekleidung', 'neue', 'weit', 'siebzehn', 'rodenkirchen', 'einhundertsechs', 'heumarkt', 'Severinstraße', 'mercure', 'hotel', 'sehr', 'straße', 'man', 'geht', 'ueber', 'die', 'straße', 'mann', 'faehrt', 'fahrrad', 'auf', 'der', 'straße', 'jammer', 'hat', 'und', 'lese', 'fehler', 'hermes', 'paketshop', 'thai', 'imbiss', 'thailaendische', 'bis', 'herzlich', 'hallo', 'willkommen', 'als', 'sportlicher', 'warmer', 'mittelberg', 'der', 'kreisenden', 'koelsch', 'apotheke', 'haus', 'nagelstudio', 'man', 'mit', 'maske', 'reparaturen', 'zu', 'verbrannt', 'die', 'apotheke', 'Schmidt', 'nennt', 'sieben', 'da', 'handy', 'shop', 'gekuehlt', 'koelsch', 'kickte', 'M', 'T', 'J', 'Palermo', 'geht', 'zu', 'wann', 'sie', 'es', 'fuer', 'den', 'ein', 'Mueller', 'war', 'im', 'bist', 'weg', 'reich', 'der', 'hand', 'supermarkt', 'Vetter']\n"
     ]
    }
   ],
   "source": [
    "word = textt.split()\n",
    "print(\"\\033[1m\" + 'Tokenized Text: ' + \"\\033[0m\", word)"
   ]
  },
  {
   "cell_type": "markdown",
   "metadata": {},
   "source": [
    "#### 6. set scrabble + beatnik-function variables"
   ]
  },
  {
   "cell_type": "code",
   "execution_count": 120,
   "metadata": {},
   "outputs": [],
   "source": [
    "SCRABBLE = {\n",
    "    'A': 1,\n",
    "    'B': 3,\n",
    "    'C': 3,\n",
    "    'D': 2,\n",
    "    'E': 1,\n",
    "    'F': 4,\n",
    "    'G': 2,\n",
    "    'H': 4,\n",
    "    'I': 1,\n",
    "    'J': 8,\n",
    "    'K': 5,\n",
    "    'L': 1,\n",
    "    'M': 3,\n",
    "    'N': 1,\n",
    "    'O': 1,\n",
    "    'P': 3,\n",
    "    'Q': 10,\n",
    "    'R': 1,\n",
    "    'S': 1,\n",
    "    'T': 1,\n",
    "    'U': 1,\n",
    "    'V': 4,\n",
    "    'W': 4,\n",
    "    'X': 8,\n",
    "    'Y': 4,\n",
    "    'Z': 10\n",
    "}\n",
    "\n",
    "ACTION = {\n",
    "    5: 'PUSH',\n",
    "    6: 'DISCARD',\n",
    "    7: 'ADD',\n",
    "    8: 'INPUT',\n",
    "    9: 'OUTPUT',\n",
    "    10: 'SUBTRACT',\n",
    "    11: 'SWAP',\n",
    "    12: 'DUP',\n",
    "    13: 'SKIP_AHEAD_ZERO',\n",
    "    14: 'SKIP_AHEAD_NONZERO',\n",
    "    15: 'SKIP_BACK_ZERO',\n",
    "    16: 'SKIP_BACK_NONZERO',\n",
    "    17: 'STOP',\n",
    "}\n",
    "\n",
    "# counting-function...\n",
    "def scrabble(word):\n",
    "    acc = 0\n",
    "    for c in word.upper():\n",
    "        acc += SCRABBLE[c]\n",
    "    return acc"
   ]
  },
  {
   "cell_type": "markdown",
   "metadata": {},
   "source": [
    "#### 7. print out the scrabble-values + beatnik-functions"
   ]
  },
  {
   "cell_type": "code",
   "execution_count": 121,
   "metadata": {},
   "outputs": [
    {
     "name": "stdout",
     "output_type": "stream",
     "text": [
      "[5:PUSH/\u001b[1mK\u001b[0m][3:NOP/\u001b[1mC\u001b[0m][1:NOP/\u001b[1mR\u001b[0m][8:INPUT/\u001b[1msieben\u001b[0m][4:NOP/\u001b[1meins\u001b[0m][4:NOP/\u001b[1mDie\u001b[0m][5:PUSH/\u001b[1mmit\u001b[0m][6:DISCARD/\u001b[1mdem\u001b[0m][9:OUTPUT/\u001b[1munfall\u001b[0m][5:PUSH/\u001b[1msind\u001b[0m][5:PUSH/\u001b[1mmit\u001b[0m][13:SKIP_AHEAD_ZERO/\u001b[1msitz\u001b[0m][8:INPUT/\u001b[1msieht\u001b[0m][9:OUTPUT/\u001b[1mfreute\u001b[0m][9:OUTPUT/\u001b[1msich\u001b[0m][8:INPUT/\u001b[1mkein\u001b[0m][6:DISCARD/\u001b[1mauf\u001b[0m][4:NOP/\u001b[1mdie\u001b[0m][11:SWAP/\u001b[1mschule\u001b[0m][8:INPUT/\u001b[1mJ\u001b[0m][8:INPUT/\u001b[1mIch\u001b[0m][6:DISCARD/\u001b[1mguten\u001b[0m][15:SKIP_BACK_ZERO/\u001b[1mwarnweste\u001b[0m][7:ADD/\u001b[1mtragen\u001b[0m][8:INPUT/\u001b[1mihren\u001b[0m][9:OUTPUT/\u001b[1manwalt\u001b[0m][4:NOP/\u001b[1mder\u001b[0m][12:DUP/\u001b[1mgrundstein\u001b[0m][8:INPUT/\u001b[1mkann\u001b[0m][4:NOP/\u001b[1mder\u001b[0m][6:DISCARD/\u001b[1mauf\u001b[0m][6:DISCARD/\u001b[1mdem\u001b[0m][1:NOP/\u001b[1mO\u001b[0m][2:NOP/\u001b[1mG\u001b[0m][5:PUSH/\u001b[1mK\u001b[0m][1:NOP/\u001b[1mN\u001b[0m][16:SKIP_BACK_NONZERO/\u001b[1mzwei\u001b[0m][16:SKIP_BACK_NONZERO/\u001b[1mzwei\u001b[0m][4:NOP/\u001b[1mnull\u001b[0m][10:SUBTRACT/\u001b[1msechs\u001b[0m][2:NOP/\u001b[1mG\u001b[0m][1:NOP/\u001b[1mT\u001b[0m][1:NOP/\u001b[1mR\u001b[0m][1:NOP/\u001b[1mS\u001b[0m][5:PUSH/\u001b[1mK\u001b[0m][3:NOP/\u001b[1mM\u001b[0m][4:NOP/\u001b[1meins\u001b[0m][24:NOP/\u001b[1mzweitausend\u001b[0m][6:DISCARD/\u001b[1mmann\u001b[0m][6:DISCARD/\u001b[1mauf\u001b[0m][16:SKIP_BACK_NONZERO/\u001b[1mfeuz\u001b[0m][12:DUP/\u001b[1mbordstein\u001b[0m][5:PUSH/\u001b[1mmit\u001b[0m][5:PUSH/\u001b[1mtasse\u001b[0m][4:NOP/\u001b[1mund\u001b[0m][8:INPUT/\u001b[1msigrid\u001b[0m][7:ADD/\u001b[1mfuer\u001b[0m][15:SKIP_BACK_ZERO/\u001b[1mmitarbeiter\u001b[0m][4:NOP/\u001b[1mund\u001b[0m][15:SKIP_BACK_ZERO/\u001b[1mbesucher\u001b[0m][2:NOP/\u001b[1min\u001b[0m][4:NOP/\u001b[1mder\u001b[0m][8:INPUT/\u001b[1mmedia\u001b[0m][10:SUBTRACT/\u001b[1mschul\u001b[0m][12:DUP/\u001b[1mcomedia\u001b[0m][5:PUSH/\u001b[1mgilt\u001b[0m][19:NOP/\u001b[1mhandbuch\u001b[0m][7:ADD/\u001b[1mstudio\u001b[0m][13:SKIP_AHEAD_ZERO/\u001b[1mrichtig\u001b[0m][3:NOP/\u001b[1mist\u001b[0m][2:NOP/\u001b[1mes\u001b[0m][8:INPUT/\u001b[1msieben\u001b[0m][5:PUSH/\u001b[1mbis\u001b[0m][4:NOP/\u001b[1mneun\u001b[0m][7:ADD/\u001b[1mPause\u001b[0m][17:STOP/\u001b[1mseverinstraße\u001b[0m][5:PUSH/\u001b[1mende\u001b[0m][16:SKIP_BACK_NONZERO/\u001b[1mvorstellbar\u001b[0m][10:SUBTRACT/\u001b[1mreich\u001b[0m][18:NOP/\u001b[1mkompletten\u001b[0m][15:SKIP_BACK_ZERO/\u001b[1meinberufen\u001b[0m][7:ADD/\u001b[1mviel\u001b[0m][28:NOP/\u001b[1mcomputersoftware\u001b[0m][9:OUTPUT/\u001b[1mthiele\u001b[0m][18:NOP/\u001b[1mbekleidung\u001b[0m][4:NOP/\u001b[1mneue\u001b[0m][7:ADD/\u001b[1mweit\u001b[0m][22:NOP/\u001b[1msiebzehn\u001b[0m][22:NOP/\u001b[1mrodenkirchen\u001b[0m][24:NOP/\u001b[1meinhundertsechs\u001b[0m][17:STOP/\u001b[1mheumarkt\u001b[0m][17:STOP/\u001b[1mSeverinstraße\u001b[0m][11:SWAP/\u001b[1mmercure\u001b[0m][8:INPUT/\u001b[1mhotel\u001b[0m][7:ADD/\u001b[1msehr\u001b[0m][7:ADD/\u001b[1mstraße\u001b[0m][5:PUSH/\u001b[1mman\u001b[0m][8:INPUT/\u001b[1mgeht\u001b[0m][7:ADD/\u001b[1mueber\u001b[0m][4:NOP/\u001b[1mdie\u001b[0m][7:ADD/\u001b[1mstraße\u001b[0m][6:DISCARD/\u001b[1mmann\u001b[0m][12:DUP/\u001b[1mfaehrt\u001b[0m][14:SKIP_AHEAD_NONZERO/\u001b[1mfahrrad\u001b[0m][6:DISCARD/\u001b[1mauf\u001b[0m][4:NOP/\u001b[1mder\u001b[0m][7:ADD/\u001b[1mstraße\u001b[0m][17:STOP/\u001b[1mjammer\u001b[0m][6:DISCARD/\u001b[1mhat\u001b[0m][4:NOP/\u001b[1mund\u001b[0m][4:NOP/\u001b[1mlese\u001b[0m][12:DUP/\u001b[1mfehler\u001b[0m][11:SWAP/\u001b[1mhermes\u001b[0m][20:NOP/\u001b[1mpaketshop\u001b[0m][7:ADD/\u001b[1mthai\u001b[0m][10:SUBTRACT/\u001b[1mimbiss\u001b[0m][23:NOP/\u001b[1mthailaendische\u001b[0m][5:PUSH/\u001b[1mbis\u001b[0m][25:NOP/\u001b[1mherzlich\u001b[0m][8:INPUT/\u001b[1mhallo\u001b[0m][21:NOP/\u001b[1mwillkommen\u001b[0m][3:NOP/\u001b[1mals\u001b[0m][18:NOP/\u001b[1msportlicher\u001b[0m][11:SWAP/\u001b[1mwarmer\u001b[0m][15:SKIP_BACK_ZERO/\u001b[1mmittelberg\u001b[0m][4:NOP/\u001b[1mder\u001b[0m][15:SKIP_BACK_ZERO/\u001b[1mkreisenden\u001b[0m][16:SKIP_BACK_NONZERO/\u001b[1mkoelsch\u001b[0m][17:STOP/\u001b[1mapotheke\u001b[0m][7:ADD/\u001b[1mhaus\u001b[0m][13:SKIP_AHEAD_ZERO/\u001b[1mnagelstudio\u001b[0m][5:PUSH/\u001b[1mman\u001b[0m][5:PUSH/\u001b[1mmit\u001b[0m][11:SWAP/\u001b[1mmaske\u001b[0m][13:SKIP_AHEAD_ZERO/\u001b[1mreparaturen\u001b[0m][11:SWAP/\u001b[1mzu\u001b[0m][14:SKIP_AHEAD_NONZERO/\u001b[1mverbrannt\u001b[0m][4:NOP/\u001b[1mdie\u001b[0m][17:STOP/\u001b[1mapotheke\u001b[0m][15:SKIP_BACK_ZERO/\u001b[1mSchmidt\u001b[0m][5:PUSH/\u001b[1mnennt\u001b[0m][8:INPUT/\u001b[1msieben\u001b[0m][3:NOP/\u001b[1mda\u001b[0m][12:DUP/\u001b[1mhandy\u001b[0m][9:OUTPUT/\u001b[1mshop\u001b[0m][16:SKIP_BACK_NONZERO/\u001b[1mgekuehlt\u001b[0m][16:SKIP_BACK_NONZERO/\u001b[1mkoelsch\u001b[0m][16:SKIP_BACK_NONZERO/\u001b[1mkickte\u001b[0m][3:NOP/\u001b[1mM\u001b[0m][1:NOP/\u001b[1mT\u001b[0m][8:INPUT/\u001b[1mJ\u001b[0m][11:SWAP/\u001b[1mPalermo\u001b[0m][8:INPUT/\u001b[1mgeht\u001b[0m][11:SWAP/\u001b[1mzu\u001b[0m][7:ADD/\u001b[1mwann\u001b[0m][3:NOP/\u001b[1msie\u001b[0m][2:NOP/\u001b[1mes\u001b[0m][7:ADD/\u001b[1mfuer\u001b[0m][4:NOP/\u001b[1mden\u001b[0m][3:NOP/\u001b[1mein\u001b[0m][9:OUTPUT/\u001b[1mMueller\u001b[0m][6:DISCARD/\u001b[1mwar\u001b[0m][4:NOP/\u001b[1mim\u001b[0m][6:DISCARD/\u001b[1mbist\u001b[0m][7:ADD/\u001b[1mweg\u001b[0m][10:SUBTRACT/\u001b[1mreich\u001b[0m][4:NOP/\u001b[1mder\u001b[0m][8:INPUT/\u001b[1mhand\u001b[0m][18:NOP/\u001b[1msupermarkt\u001b[0m][9:OUTPUT/\u001b[1mVetter\u001b[0m]"
     ]
    }
   ],
   "source": [
    "for i in word:\n",
    "    value = scrabble(i)\n",
    "    # to print with linebreaks:\n",
    "    #print (\"[%s:%s/%s]\" % (value, ACTION.get(value, 'NOP'), \"\\033[1m\" + i + \"\\033[0m\"))\n",
    "    # to print without linebreaks:\n",
    "    print (\"[%s:%s/%s]\" % (value, ACTION.get(value, 'NOP'), \"\\033[1m\" + i + \"\\033[0m\"), end='')"
   ]
  },
  {
   "cell_type": "markdown",
   "metadata": {},
   "source": [
    "---\n",
    "\n",
    "Now, if you click >**[here](https://exmediawiki.khm.de/exmediawiki/index.php/ASCII-Tabelle)**<, you will find an ASCII-Table\n",
    "\n",
    "if you click >**[here](https://exmediawiki.khm.de/exmediawiki/index.php/Beatnik#Code-Examples)**<, you will find some beatnik-code examples\n",
    "\n",
    "and if you click >**[here](https://exmediawiki.khm.de/exmediawiki/index.php/Beatnik#Commands)**<, there is a table which explains the commands connected to the scrabble-values\n",
    "\n",
    "---"
   ]
  },
  {
   "cell_type": "markdown",
   "metadata": {},
   "source": [
    "----\n",
    "**doubleclick** into this field to type your text/words/code in\n",
    "\n",
    "----"
   ]
  },
  {
   "cell_type": "markdown",
   "metadata": {},
   "source": [
    "# to interpret your beatnik-code, klick below:\n",
    "\n",
    "https://tio.run/#beatnik"
   ]
  }
 ],
 "metadata": {
  "kernelspec": {
   "display_name": "Python 3",
   "language": "python",
   "name": "python3"
  },
  "language_info": {
   "codemirror_mode": {
    "name": "ipython",
    "version": 3
   },
   "file_extension": ".py",
   "mimetype": "text/x-python",
   "name": "python",
   "nbconvert_exporter": "python",
   "pygments_lexer": "ipython3",
   "version": "3.7.8"
  }
 },
 "nbformat": 4,
 "nbformat_minor": 4
}
