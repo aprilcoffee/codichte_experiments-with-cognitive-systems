{
 "cells": [
  {
   "cell_type": "markdown",
   "metadata": {},
   "source": [
    "### ...in die Maschine einlesen und mit dem `print` Befehl wieder auf selbe Weise ausgeben:"
   ]
  },
  {
   "cell_type": "code",
   "execution_count": 8,
   "metadata": {},
   "outputs": [
    {
     "name": "stdout",
     "output_type": "stream",
     "text": [
      "\n",
      "Take a newspaper.\n",
      "Take some scissors.\n",
      "Choose from this paper an article of the length you want to make your poem.\n",
      "Cut out the article.\n",
      "Next carefully cut out each of the words that makes up this article and put them all in a bag.\n",
      "Shake gently.\n",
      "Next take out each cutting one after the other.\n",
      "Copy conscientiously in the order in which they left the bag.\n",
      "Them poem will resemble you.\n",
      "And there you are – an infinitely original author of charming sensibility, even though unappreciated by the vulgar herd.\n"
     ]
    }
   ],
   "source": [
    "newspaper = \"\"\"\n",
    "Take a newspaper.\n",
    "Take some scissors.\n",
    "Choose from this paper an article of the length you want to make your poem.\n",
    "Cut out the article.\n",
    "Next carefully cut out each of the words that makes up this article and put them all in a bag.\n",
    "Shake gently.\n",
    "Next take out each cutting one after the other.\n",
    "Copy conscientiously in the order in which they left the bag.\n",
    "Them poem will resemble you.\n",
    "And there you are – an infinitely original author of charming sensibility, even though unappreciated by the vulgar herd.\"\"\" \n",
    "\n",
    "print(newspaper)"
   ]
  },
  {
   "cell_type": "markdown",
   "metadata": {},
   "source": [
    "## ...notwendige Bibliotheken installieren"
   ]
  },
  {
   "cell_type": "code",
   "execution_count": 9,
   "metadata": {},
   "outputs": [],
   "source": [
    "import random \n",
    "import textwrap"
   ]
  },
  {
   "cell_type": "markdown",
   "metadata": {},
   "source": [
    "## ...cut it up & print it"
   ]
  },
  {
   "cell_type": "code",
   "execution_count": 10,
   "metadata": {},
   "outputs": [
    {
     "name": "stdout",
     "output_type": "stream",
     "text": [
      "Them article. by cutting bag. make conscientiously the poem.\n",
      "newspaper. to Next are the And article the a left you Take\n",
      "out that will paper want the an up sensibility, your a them\n",
      "charming put in from makes cut gently. the words you –\n",
      "infinitely Shake vulgar take Copy in author Next there\n",
      "Choose of you. they in poem and scissors. article after the\n",
      "other. herd. carefully order bag. each all resemble the an\n",
      "some out Take out length Cut even this though of each of one\n",
      "unappreciated which original this\n"
     ]
    }
   ],
   "source": [
    "words=newspaper.split()\n",
    "random.shuffle(words)\n",
    "print(textwrap.fill(\" \".join(words), 60))"
   ]
  }
 ],
 "metadata": {
  "kernelspec": {
   "display_name": "Python 3",
   "language": "python",
   "name": "python3"
  },
  "language_info": {
   "codemirror_mode": {
    "name": "ipython",
    "version": 3
   },
   "file_extension": ".py",
   "mimetype": "text/x-python",
   "name": "python",
   "nbconvert_exporter": "python",
   "pygments_lexer": "ipython3",
   "version": "3.7.8"
  },
  "toc": {
   "base_numbering": 1,
   "nav_menu": {},
   "number_sections": true,
   "sideBar": true,
   "skip_h1_title": false,
   "title_cell": "Table of Contents",
   "title_sidebar": "Contents",
   "toc_cell": false,
   "toc_position": {},
   "toc_section_display": true,
   "toc_window_display": true
  }
 },
 "nbformat": 4,
 "nbformat_minor": 4
}
